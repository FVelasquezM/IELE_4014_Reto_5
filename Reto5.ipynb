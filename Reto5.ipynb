{
 "cells": [
  {
   "cell_type": "code",
   "execution_count": null,
   "metadata": {
    "collapsed": true
   },
   "outputs": [],
   "source": []
  },
  {
   "cell_type": "code",
   "execution_count": 1,
   "metadata": {
    "collapsed": false
   },
   "outputs": [
    {
     "name": "stderr",
     "output_type": "stream",
     "text": [
      "ERROR:root:Line magic function `%pip` not found.\n",
      "ERROR:root:Line magic function `%pip` not found.\n",
      "ERROR:root:Line magic function `%pip` not found.\n"
     ]
    }
   ],
   "source": [
    "%pip install --user sklearn\n",
    "%pip install --user numpy\n",
    "%pip install --user matplotlib"
   ]
  },
  {
   "cell_type": "code",
   "execution_count": 13,
   "metadata": {
    "collapsed": true
   },
   "outputs": [],
   "source": [
    "import numpy as np\n",
    "import matplotlib.pyplot as plt\n",
    "from sklearn.model_selection import train_test_split "
   ]
  },
  {
   "cell_type": "code",
   "execution_count": 11,
   "metadata": {
    "collapsed": false
   },
   "outputs": [
    {
     "name": "stdout",
     "output_type": "stream",
     "text": [
      "Filas de la matriz: 8350\n",
      "Columnas de la matriz: 31\n",
      "X shape(8350, 30)\n",
      "y shape(8350,)\n"
     ]
    }
   ],
   "source": [
    "data_matrix = np.loadtxt(open(\"./msd_genre_dataset/msd_genre_dataset_segpreproc_knime.csv\", \"rb\"), delimiter=\";\", skiprows=1)\n",
    "\n",
    "print(\"Filas de la matriz: \" + str(len(data_matrix)))\n",
    "print(\"Columnas de la matriz: \" + str(len(data_matrix[0])))\n",
    "\n",
    "X = np.resize(data_matrix, (len(data_matrix), len(data_matrix[0])-1))\n",
    "y = data_matrix[:,len(data_matrix[0])-1]\n",
    "\n",
    "\n",
    "print(\"X shape\" + str(X.shape))\n",
    "print(\"y shape\" + str(y.shape))"
   ]
  },
  {
   "cell_type": "code",
   "execution_count": 15,
   "metadata": {
    "collapsed": false
   },
   "outputs": [
    {
     "data": {
      "text/plain": [
       "array([[  1.17443000e+02,   4.00000000e+00,   5.00000000e+00, ...,\n",
       "          3.91004962e+02,   1.78281997e+02,   1.00000000e+00],\n",
       "       [  2.34420941e+03,   1.36365092e+03,   6.19663915e+02, ...,\n",
       "         -2.08812990e-02,   6.39017805e+00,   5.21939360e+01],\n",
       "       [  4.38792627e+01,   2.01850118e+01,   2.85422269e+00, ...,\n",
       "          3.00000000e+00,   1.00000000e+00,   1.00000000e+00],\n",
       "       ..., \n",
       "       [  3.00000000e+00,   5.00000000e+00,   1.00000000e+00, ...,\n",
       "          2.83430235e+02,   1.00000000e+00,  -1.17630000e+01],\n",
       "       [  2.77961891e+00,  -6.76128940e+00,   3.40002746e+01, ...,\n",
       "         -2.31698757e+01,  -8.32152094e+00,  -7.74862565e+00],\n",
       "       [ -1.12400586e+01,   3.05356616e+00,  -1.66671334e+01, ...,\n",
       "          2.94059950e+02,   2.76560422e+01,  -8.27561972e+00]])"
      ]
     },
     "execution_count": 15,
     "metadata": {},
     "output_type": "execute_result"
    }
   ],
   "source": [
    "percentage_test = 0.2\n",
    "\n",
    "#Porcentaje de datos dedicados a validación, relativo al número de daots de test\n",
    "\n",
    "X_train, X_test, y_train, y_test = train_test_split(X, y, test_size = percentage_test) "
   ]
  },
  {
   "cell_type": "code",
   "execution_count": null,
   "metadata": {
    "collapsed": true
   },
   "outputs": [],
   "source": []
  }
 ],
 "metadata": {
  "kernelspec": {
   "display_name": "Python 3",
   "language": "python",
   "name": "python3"
  },
  "language_info": {
   "codemirror_mode": {
    "name": "ipython",
    "version": 3
   },
   "file_extension": ".py",
   "mimetype": "text/x-python",
   "name": "python",
   "nbconvert_exporter": "python",
   "pygments_lexer": "ipython3",
   "version": "3.6.0"
  }
 },
 "nbformat": 4,
 "nbformat_minor": 2
}
