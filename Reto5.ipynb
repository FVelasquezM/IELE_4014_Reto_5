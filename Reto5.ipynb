{
 "cells": [
  {
   "cell_type": "code",
   "execution_count": null,
   "metadata": {},
   "outputs": [],
   "source": []
  },
  {
   "cell_type": "code",
   "execution_count": null,
   "metadata": {
    "collapsed": false,
    "jupyter": {
     "outputs_hidden": false
    }
   },
   "outputs": [],
   "source": [
    "%pip install --user sklearn\n",
    "%pip install --user numpy\n",
    "%pip install --user matplotlib"
   ]
  },
  {
   "cell_type": "code",
   "execution_count": 1,
   "metadata": {},
   "outputs": [],
   "source": [
    "import math\n",
    "import numpy as np\n",
    "import matplotlib.pyplot as plt\n",
    "from sklearn.model_selection import train_test_split \n",
    "from sklearn.model_selection import KFold\n",
    "from sklearn.neural_network import MLPClassifier\n",
    "from sklearn.preprocessing import MinMaxScaler"
   ]
  },
  {
   "cell_type": "code",
   "execution_count": null,
   "metadata": {
    "collapsed": false,
    "jupyter": {
     "outputs_hidden": false
    }
   },
   "outputs": [],
   "source": [
    "data_matrix = np.loadtxt(open(\"./msd_genre_dataset/msd_genre_dataset_segpreproc_knime.csv\", \"rb\"), delimiter=\";\", skiprows=1)\n",
    "\n",
    "\n",
    "\n",
    "#Los datos del set de datos están agrupados por género. Es decir, primero están todas las filas que corresponden\n",
    "#a 1 y después todas las que corresponden a 0. Se hace un shuffle para que, más tarde, en cross-validation\n",
    "#no se creen unos modelos que predigan únicamente una clase.\n",
    "np.random.shuffle(data_matrix)\n",
    "\n",
    "plt.figure(num=None, figsize=(8, 6), dpi=80, facecolor='w', edgecolor='k')\n",
    "plt.matshow(np.corrcoef(data_matrix))\n",
    "plt.show()\n",
    "\n",
    "\n",
    "print(\"Filas de la matriz: \" + str(len(data_matrix)))\n",
    "print(\"Columnas de la matriz: \" + str(len(data_matrix[0])))\n",
    "\n",
    "X = np.resize(data_matrix, (len(data_matrix), len(data_matrix[0])-1))\n",
    "y = data_matrix[:,len(data_matrix[0])-1]\n",
    "\n",
    "#Se intenta estandarizar X para lograr mejor desempeño. Sin embargo, no parece funcionar.\n",
    "X = MinMaxScaler().fit_transform(X)\n",
    "\n",
    "print(\"X shape\" + str(X.shape))\n",
    "print(\"y shape\" + str(y.shape))\n",
    "\n"
   ]
  },
  {
   "cell_type": "code",
   "execution_count": 3,
   "metadata": {
    "collapsed": false,
    "jupyter": {
     "outputs_hidden": false
    }
   },
   "outputs": [],
   "source": [
    "percentage_test = 0.2\n",
    "\n",
    "#Porcentaje de datos dedicados a validación, relativo al número de daots de test\n",
    "percentage_validation = 0.1\n",
    "\n",
    "X_train, X_test, y_train, y_test = train_test_split(X, y, test_size = percentage_test) "
   ]
  },
  {
   "cell_type": "code",
   "execution_count": 4,
   "metadata": {},
   "outputs": [
    {
     "name": "stdout",
     "output_type": "stream",
     "text": [
      "Average error probability for 2 neurons in one hidden layer: 0.4883832335329341\n",
      "Average error probability for 7 neurons in one hidden layer: 0.49556886227544905\n",
      "Average error probability for 12 neurons in one hidden layer: 0.4966467065868263\n",
      "Average error probability for 17 neurons in one hidden layer: 0.4966467065868263\n",
      "Average error probability for 22 neurons in one hidden layer: 0.4991616766467065\n",
      "Average error probability for 27 neurons in one hidden layer: 0.4996407185628742\n",
      "Average error probability for 32 neurons in one hidden layer: 0.4947305389221557\n",
      "Average error probability for 37 neurons in one hidden layer: 0.4917365269461078\n",
      "Average error probability for 42 neurons in one hidden layer: 0.5009580838323353\n",
      "Average error probability for 47 neurons in one hidden layer: 0.4935329341317366\n",
      "Average error probability for 52 neurons in one hidden layer: 0.5027544910179641\n",
      "Average error probability for 57 neurons in one hidden layer: 0.4979640718562873\n",
      "Average error probability for 62 neurons in one hidden layer: 0.5007185628742514\n",
      "Average error probability for 67 neurons in one hidden layer: 0.49401197604790426\n",
      "Average error probability for 72 neurons in one hidden layer: 0.5010778443113773\n",
      "Average error probability for 77 neurons in one hidden layer: 0.5016766467065868\n",
      "Average error probability for 82 neurons in one hidden layer: 0.5046706586826347\n",
      "Average error probability for 87 neurons in one hidden layer: 0.5052694610778443\n",
      "Average error probability for 92 neurons in one hidden layer: 0.4947305389221557\n",
      "Average error probability for 97 neurons in one hidden layer: 0.5049101796407185\n",
      "Lowest error probability: 0.4883832335329341 for model with 2 neurons\n"
     ]
    }
   ],
   "source": [
    "kf = KFold(n_splits=math.floor(1/percentage_validation))\n",
    "\n",
    "n_max = 100\n",
    "scores = []\n",
    "best_neurons=0\n",
    "best_score=1\n",
    "\n",
    "for n in range(2, n_max+1, 5):\n",
    "\n",
    "    i=0\n",
    "    score=0\n",
    "\n",
    "    #Validación cruzada de la red neuronal\n",
    "    for train_index, test_index in kf.split(X):\n",
    "        X_train_cv, X_validate = X[train_index], X[test_index]\n",
    "        y_train_cv, y_validate = y[train_index], y[test_index]\n",
    "        net = MLPClassifier(solver='lbfgs', alpha=0.000005,hidden_layer_sizes=(n,), random_state=1)\n",
    "        net.fit(X_train_cv,y_train_cv)\n",
    "    \n",
    "        score+=net.score(X_validate, y_validate)\n",
    "        i+=1\n",
    "    \n",
    "    score = 1- (score/i)\n",
    "    scores.append(score)\n",
    "    \n",
    "    if score < best_score:\n",
    "        best_score = score\n",
    "        best_neurons = n\n",
    "    \n",
    "    print(\"Average error probability for %s neurons in one hidden layer: %s\" % (n, score))\n",
    "\n",
    "print(\"Lowest error probability: %s for model with %s neurons\" % (best_score, best_neurons))\n",
    "\n"
   ]
  },
  {
   "cell_type": "code",
   "execution_count": 5,
   "metadata": {},
   "outputs": [
    {
     "data": {
      "image/png": "[encoded data removed]",
      "text/plain": [
       "<Figure size 640x480 with 1 Axes>"
      ]
     },
     "metadata": {},
     "output_type": "display_data"
    }
   ],
   "source": [
    "plt.figure(num=None, figsize=(8, 6), dpi=80, facecolor='w', edgecolor='k')\n",
    "\n",
    "plt.plot(range(2, n_max, 5), scores, 'o')\n",
    "plt.axis([0, 100, 0, 1])\n",
    "plt.xlabel('Número de neuronas en la capa escondida')\n",
    "plt.ylabel('Probabilidad de error promedio ')\n",
    "plt.title('Probabilidad de error promedio en función del número de neuronas de la capa escondida')\n",
    "plt.show()"
   ]
  },
  {
   "cell_type": "code",
   "execution_count": 6,
   "metadata": {},
   "outputs": [
    {
     "name": "stdout",
     "output_type": "stream",
     "text": [
      "Probabilidad de error del modelo con 2 neuronas en una capa escondida: 0.4730538922155688\n"
     ]
    }
   ],
   "source": [
    "#Ahora se entrena el mejor modelo con todos los datos de entrenamiento y se prueban los datos de validación\n",
    "\n",
    "final_classifier = MLPClassifier(solver='lbfgs', alpha=0.000005,hidden_layer_sizes=(best_neurons,), random_state=1)\n",
    "final_classifier.fit(X_train, y_train)\n",
    "\n",
    "print(\"Probabilidad de error del modelo con %s neuronas en una capa escondida: %s\" \n",
    "      % (best_neurons, 1-final_classifier.score(X_test, y_test)))\n"
   ]
  },
  {
   "cell_type": "code",
   "execution_count": 7,
   "metadata": {},
   "outputs": [
    {
     "name": "stdout",
     "output_type": "stream",
     "text": [
      "Average error probability for 2 neurons in 2 hidden layers: 0.4809580838323353\n",
      "Average error probability for 2 neurons in 3 hidden layers: 0.4809580838323353\n",
      "Average error probability for 2 neurons in 4 hidden layers: 0.4809580838323353\n",
      "Average error probability for 2 neurons in 5 hidden layers: 0.4809580838323353\n",
      "Average error probability for 2 neurons in 6 hidden layers: 0.4809580838323353\n",
      "Average error probability for 2 neurons in 7 hidden layers: 0.4809580838323353\n",
      "Average error probability for 2 neurons in 8 hidden layers: 0.4809580838323353\n",
      "Average error probability for 2 neurons in 9 hidden layers: 0.4809580838323353\n",
      "Average error probability for 2 neurons in 10 hidden layers: 0.4809580838323353\n",
      "Average error probability for 2 neurons in 11 hidden layers: 0.4809580838323353\n",
      "Average error probability for 2 neurons in 12 hidden layers: 0.4809580838323353\n",
      "Average error probability for 2 neurons in 13 hidden layers: 0.4809580838323353\n",
      "Average error probability for 2 neurons in 14 hidden layers: 0.4809580838323353\n",
      "Average error probability for 2 neurons in 15 hidden layers: 0.4809580838323353\n",
      "Average error probability for 2 neurons in 16 hidden layers: 0.4809580838323353\n",
      "Average error probability for 2 neurons in 17 hidden layers: 0.4809580838323353\n",
      "Average error probability for 2 neurons in 18 hidden layers: 0.4809580838323353\n",
      "Average error probability for 2 neurons in 19 hidden layers: 0.4809580838323353\n",
      "Average error probability for 2 neurons in 20 hidden layers: 0.4809580838323353\n",
      "Lowest error probability: 0.4809580838323353 for model with 2 hidden layers\n"
     ]
    }
   ],
   "source": [
    "#Ahora, se toma el número de neuronas con mayor desempeño en una capa escondida y, con este número de neuronas, \n",
    "#se prueban n capas escondidas entre 2 y 100 a intervalos de 5.\n",
    "\n",
    "kf = KFold(n_splits=math.floor(1/percentage_validation))\n",
    "\n",
    "n_max = 20\n",
    "hl_scores = []\n",
    "best_layers=0\n",
    "best_score=1\n",
    "\n",
    "hid_tuple = ()\n",
    "\n",
    "for n in range(2, n_max+1, 1):\n",
    "    \n",
    "    #Ahora expande la tupla, insertando best_neurons n veces hasta llegar a n\n",
    "    \n",
    "    hid_tuple = list(hid_tuple)\n",
    "    while len(hid_tuple) != n:\n",
    "        hid_tuple.append(best_neurons)\n",
    "    \n",
    "    hid_tuple = tuple(hid_tuple)\n",
    "\n",
    "    i=0\n",
    "    score=0\n",
    "\n",
    "    #Validación cruzada de la red neuronal\n",
    "    for train_index, test_index in kf.split(X):\n",
    "        X_train_cv, X_validate = X[train_index], X[test_index]\n",
    "        y_train_cv, y_validate = y[train_index], y[test_index]\n",
    "        net = MLPClassifier(solver='lbfgs', alpha=0.000005,hidden_layer_sizes=hid_tuple, random_state=1)\n",
    "        net.fit(X_train_cv,y_train_cv)\n",
    "    \n",
    "        score+=net.score(X_validate, y_validate)\n",
    "        i+=1\n",
    "    \n",
    "    score = 1- (score/i)\n",
    "    hl_scores.append(score)\n",
    "    \n",
    "    if score < best_score:\n",
    "        best_score = score\n",
    "        best_layers = n\n",
    "    \n",
    "    print(\"Average error probability for %s neurons in %s hidden layers: %s\" % (best_neurons, n,score))\n",
    "    \n",
    "    \n",
    "print(\"Lowest error probability: %s for model with %s hidden layers\" % (best_score, best_layers))\n",
    "\n"
   ]
  },
  {
   "cell_type": "code",
   "execution_count": 8,
   "metadata": {},
   "outputs": [
    {
     "data": {
      "image/png": "[encoded data removed]",
      "text/plain": [
       "<Figure size 640x480 with 1 Axes>"
      ]
     },
     "metadata": {},
     "output_type": "display_data"
    }
   ],
   "source": [
    "plt.figure(num=None, figsize=(8, 6), dpi=80, facecolor='w', edgecolor='k')\n",
    "\n",
    "plt.plot(range(2, n_max+1, 1), hl_scores, 'o')\n",
    "plt.axis([1, 21, 0, 1])\n",
    "plt.xlabel('Número de capas escondidas')\n",
    "plt.ylabel('Probabilidad de error promedio ')\n",
    "plt.title('Probabilidad de error promedio en función del número de capas escondidas con %s neuronas' \n",
    "          % best_neurons)\n",
    "plt.show()"
   ]
  },
  {
   "cell_type": "code",
   "execution_count": 9,
   "metadata": {},
   "outputs": [
    {
     "name": "stdout",
     "output_type": "stream",
     "text": [
      "Probabilidad de error del modelo con 2 neuronas en 2 capas escondida: 0.4730538922155688\n"
     ]
    }
   ],
   "source": [
    "#Ahora se entrena el mejor modelo con todos los datos de entrenamiento y se prueban los datos de validación\n",
    "\n",
    "hid_tuple_final = ()\n",
    "hid_tuple_final = list(hid_tuple_final)\n",
    "\n",
    "while len(hid_tuple_final) != best_layers:\n",
    "    hid_tuple_final.append(best_neurons)\n",
    "    \n",
    "hid_tuple_final = tuple(hid_tuple_final)\n",
    "\n",
    "final_classifier = MLPClassifier(solver='lbfgs', alpha=0.000005,hidden_layer_sizes=hid_tuple_final, random_state=1)\n",
    "final_classifier.fit(X_train, y_train)\n",
    "\n",
    "print(\"Probabilidad de error del modelo con %s neuronas en %s capas escondida: %s\" \n",
    "      % (best_neurons, best_layers, 1-final_classifier.score(X_test, y_test)))\n"
   ]
  },
  {
   "cell_type": "code",
   "execution_count": null,
   "metadata": {},
   "outputs": [],
   "source": []
  }
 ],
 "metadata": {
  "kernelspec": {
   "display_name": "Python 3",
   "language": "python",
   "name": "python3"
  },
  "language_info": {
   "codemirror_mode": {
    "name": "ipython",
    "version": 3
   },
   "file_extension": ".py",
   "mimetype": "text/x-python",
   "name": "python",
   "nbconvert_exporter": "python",
   "pygments_lexer": "ipython3",
   "version": "3.7.4"
  }
 },
 "nbformat": 4,
 "nbformat_minor": 4
}
