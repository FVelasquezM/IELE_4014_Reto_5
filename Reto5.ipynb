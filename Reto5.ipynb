{
 "cells": [
  {
   "cell_type": "code",
   "execution_count": null,
   "metadata": {
    "collapsed": true
   },
   "outputs": [],
   "source": []
  },
  {
   "cell_type": "code",
   "execution_count": 1,
   "metadata": {
    "collapsed": false
   },
   "outputs": [
    {
     "name": "stdout",
     "output_type": "stream",
     "text": [
      "Requirement already satisfied: sklearn in /home/felipe/.local/lib/python3.7/site-packages (0.0)\n",
      "Requirement already satisfied: scikit-learn in /home/felipe/anaconda3/lib/python3.7/site-packages (from sklearn) (0.20.3)\n",
      "Requirement already satisfied: numpy>=1.8.2 in /home/felipe/anaconda3/lib/python3.7/site-packages (from scikit-learn->sklearn) (1.16.2)\n",
      "Requirement already satisfied: scipy>=0.13.3 in /home/felipe/anaconda3/lib/python3.7/site-packages (from scikit-learn->sklearn) (1.2.1)\n",
      "Note: you may need to restart the kernel to use updated packages.\n",
      "Requirement already satisfied: numpy in /home/felipe/anaconda3/lib/python3.7/site-packages (1.16.2)\n",
      "Note: you may need to restart the kernel to use updated packages.\n",
      "Requirement already satisfied: matplotlib in /home/felipe/anaconda3/lib/python3.7/site-packages (3.0.3)\n",
      "Requirement already satisfied: numpy>=1.10.0 in /home/felipe/anaconda3/lib/python3.7/site-packages (from matplotlib) (1.16.2)\n",
      "Requirement already satisfied: cycler>=0.10 in /home/felipe/anaconda3/lib/python3.7/site-packages (from matplotlib) (0.10.0)\n",
      "Requirement already satisfied: kiwisolver>=1.0.1 in /home/felipe/anaconda3/lib/python3.7/site-packages (from matplotlib) (1.0.1)\n",
      "Requirement already satisfied: pyparsing!=2.0.4,!=2.1.2,!=2.1.6,>=2.0.1 in /home/felipe/anaconda3/lib/python3.7/site-packages (from matplotlib) (2.3.1)\n",
      "Requirement already satisfied: python-dateutil>=2.1 in /home/felipe/anaconda3/lib/python3.7/site-packages (from matplotlib) (2.8.0)\n",
      "Requirement already satisfied: six in /home/felipe/anaconda3/lib/python3.7/site-packages (from cycler>=0.10->matplotlib) (1.12.0)\n",
      "Requirement already satisfied: setuptools in /home/felipe/anaconda3/lib/python3.7/site-packages (from kiwisolver>=1.0.1->matplotlib) (40.8.0)\n",
      "Note: you may need to restart the kernel to use updated packages.\n"
     ]
    }
   ],
   "source": [
    "%pip install --user sklearn\n",
    "%pip install --user numpy\n",
    "%pip install --user matplotlib"
   ]
  },
  {
   "cell_type": "code",
   "execution_count": 12,
   "metadata": {
    "collapsed": true
   },
   "outputs": [],
   "source": [
    "import math\n",
    "import numpy as np\n",
    "import matplotlib.pyplot as plt\n",
    "from sklearn.model_selection import train_test_split \n",
    "from sklearn.model_selection import KFold\n",
    "from sklearn.neural_network import MLPClassifier\n"
   ]
  },
  {
   "cell_type": "code",
   "execution_count": null,
   "metadata": {
    "collapsed": false
   },
   "outputs": [],
   "source": [
    "data_matrix = np.loadtxt(open(\"./msd_genre_dataset/msd_genre_dataset_segpreproc_knime.csv\", \"rb\"), delimiter=\";\", skiprows=1)\n",
    "\n",
    "#Los datos del set de datos están agrupados por género. Es decir, primero están todas las filas que corresponden\n",
    "#a 1 y después todas las que corresponden a 0. Se hace un shuffle para que, más tarde, en cross-validation\n",
    "#no se creen unos modelos que predigan únicamente una clase.\n",
    "np.random.shuffle(data_matrix)\n",
    "\n",
    "print(\"Filas de la matriz: \" + str(len(data_matrix)))\n",
    "print(\"Columnas de la matriz: \" + str(len(data_matrix[0])))\n",
    "\n",
    "X = np.resize(data_matrix, (len(data_matrix), len(data_matrix[0])-1))\n",
    "y = data_matrix[:,len(data_matrix[0])-1]\n",
    "\n",
    "\n",
    "print(\"X shape\" + str(X.shape))\n",
    "print(\"y shape\" + str(y.shape))"
   ]
  },
  {
   "cell_type": "code",
   "execution_count": 68,
   "metadata": {
    "collapsed": false
   },
   "outputs": [],
   "source": [
    "percentage_test = 0.2\n",
    "\n",
    "#Porcentaje de datos dedicados a validación, relativo al número de daots de test\n",
    "percentage_validation = 0.1\n",
    "\n",
    "X_train, X_test, y_train, y_test = train_test_split(X, y, test_size = percentage_test) "
   ]
  },
  {
   "cell_type": "code",
   "execution_count": 70,
   "metadata": {
    "collapsed": true
   },
   "outputs": [
    {
     "name": "stdout",
     "output_type": "stream",
     "text": [
      "Average error probability for 2 neurons in one hidden layer: 0.4809580838323353\n",
      "Average error probability for 7 neurons in one hidden layer: 0.49976047904191634\n",
      "Average error probability for 12 neurons in one hidden layer: 0.4954491017964072\n",
      "Average error probability for 17 neurons in one hidden layer: 0.4948502994011975\n",
      "Average error probability for 22 neurons in one hidden layer: 0.5019161676646705\n",
      "Average error probability for 27 neurons in one hidden layer: 0.4883832335329341\n",
      "Average error probability for 32 neurons in one hidden layer: 0.49365269461077843\n",
      "Average error probability for 37 neurons in one hidden layer: 0.49640718562874253\n",
      "Average error probability for 42 neurons in one hidden layer: 0.4815568862275448\n",
      "Average error probability for 47 neurons in one hidden layer: 0.49401197604790414\n",
      "Average error probability for 52 neurons in one hidden layer: 0.48790419161676646\n",
      "Average error probability for 57 neurons in one hidden layer: 0.4837125748502994\n",
      "Average error probability for 62 neurons in one hidden layer: 0.49808383233532927\n",
      "Average error probability for 67 neurons in one hidden layer: 0.49401197604790426\n",
      "Average error probability for 72 neurons in one hidden layer: 0.4911377245508982\n",
      "Average error probability for 77 neurons in one hidden layer: 0.5011976047904192\n",
      "Average error probability for 82 neurons in one hidden layer: 0.48850299401197605\n",
      "Average error probability for 87 neurons in one hidden layer: 0.49461077844311374\n",
      "Average error probability for 92 neurons in one hidden layer: 0.48203592814371254\n",
      "Average error probability for 97 neurons in one hidden layer: 0.48730538922155686\n",
      "Lowest error probability: 0.4809580838323353 for model in index: 0 \n"
     ]
    }
   ],
   "source": [
    "kf = KFold(n_splits=math.floor(1/percentage_validation))\n",
    "\n",
    "n_max = 100\n",
    "scores = []\n",
    "best_neurons=0\n",
    "best_score=1\n",
    "\n",
    "for n in range(2, n_max+1, 5):\n",
    "\n",
    "    i=0\n",
    "    score=0\n",
    "\n",
    "    #Validación cruzada de la red neuronal\n",
    "    for train_index, test_index in kf.split(X):\n",
    "        X_train_cv, X_validate = X[train_index], X[test_index]\n",
    "        y_train_cv, y_validate = y[train_index], y[test_index]\n",
    "        net = MLPClassifier(solver='lbfgs', alpha=0.000005,hidden_layer_sizes=(n,), random_state=1)\n",
    "        net.fit(X_train_cv,y_train_cv)\n",
    "    \n",
    "        score+=net.score(X_validate, y_validate)\n",
    "        i+=1\n",
    "    \n",
    "    score = 1- (score/i)\n",
    "    scores.append(score)\n",
    "    \n",
    "    if score < best_score:\n",
    "        best_score = score\n",
    "        best_neurons = n\n",
    "    \n",
    "    print(\"Average error probability for %s neurons in one hidden layer: %s\" % (n, score))\n",
    "\n",
    "print(\"Lowest error probability: %s for model in with %s neurons\" % (best_score, best_neurons))\n",
    "\n"
   ]
  },
  {
   "cell_type": "code",
   "execution_count": 74,
   "metadata": {},
   "outputs": [
    {
     "data": {
      "image/png": "[encoded data removed]",
      "text/plain": [
       "<Figure size 640x480 with 1 Axes>"
      ]
     },
     "metadata": {},
     "output_type": "display_data"
    }
   ],
   "source": [
    "plt.figure(num=None, figsize=(8, 6), dpi=80, facecolor='w', edgecolor='k')\n",
    "\n",
    "plt.plot(range(2, n_max, 5), scores, 'o')\n",
    "plt.axis([0, 100, 0, 1])\n",
    "plt.xlabel('Número de neuronas en la capa escondida')\n",
    "plt.ylabel('Probabilidad de error promedio ')\n",
    "plt.title('Probabilidad de error promedio en función del número de neuronas de la capa escondida')\n",
    "plt.show()"
   ]
  },
  {
   "cell_type": "code",
   "execution_count": 78,
   "metadata": {},
   "outputs": [
    {
     "name": "stdout",
     "output_type": "stream",
     "text": [
      "Probabilidad de error del modelo con 2 neuronas en una capa escondida: 0.49580838323353293\n"
     ]
    }
   ],
   "source": [
    "#Ahora se entrena el mejor modelo con todos los datos de entrenamiento y se prueban los datos de validación\n",
    "\n",
    "final_classifier = MLPClassifier(solver='lbfgs', alpha=0.000005,hidden_layer_sizes=(best_neurons,), random_state=1)\n",
    "final_classifier.fit(X_train, y_train)\n",
    "\n",
    "print(\"Probabilidad de error del modelo con %s neuronas en una capa escondida: %s\" \n",
    "      % (best_neurons, 1-final_classifier.score(X_test, y_test)))\n"
   ]
  },
  {
   "cell_type": "code",
   "execution_count": 97,
   "metadata": {},
   "outputs": [
    {
     "name": "stdout",
     "output_type": "stream",
     "text": [
      "Average error probability for 2 neurons in 2 hidden layers: 0.4809580838323353\n",
      "Average error probability for 2 neurons in 3 hidden layers: 0.48107784431137723\n",
      "Average error probability for 2 neurons in 4 hidden layers: 0.4809580838323353\n",
      "Average error probability for 2 neurons in 5 hidden layers: 0.4809580838323353\n",
      "Average error probability for 2 neurons in 6 hidden layers: 0.4864670658682634\n",
      "Average error probability for 2 neurons in 7 hidden layers: 0.4809580838323353\n",
      "Average error probability for 2 neurons in 8 hidden layers: 0.4809580838323353\n",
      "Average error probability for 2 neurons in 9 hidden layers: 0.48574850299401195\n",
      "Average error probability for 2 neurons in 10 hidden layers: 0.4809580838323353\n",
      "Lowest error probability: 0.4809580838323353 for model with 2 hidden_layers\n"
     ]
    }
   ],
   "source": [
    "#Ahora, se toma el número de neuronas con mayor desempeño en una capa escondida y, con este número de neuronas, \n",
    "#se prueban n capas escondidas entre 2 y 100 a intervalos de 5.\n",
    "\n",
    "kf = KFold(n_splits=math.floor(1/percentage_validation))\n",
    "\n",
    "n_max = 10\n",
    "hl_scores = []\n",
    "best_layers=0\n",
    "best_score=1\n",
    "\n",
    "hid_tuple = ()\n",
    "\n",
    "for n in range(2, n_max+1, 1):\n",
    "    \n",
    "    #Ahora expande la tupla, insertando best_neurons n veces hasta llegar a n\n",
    "    \n",
    "    hid_tuple = list(hid_tuple)\n",
    "    while len(hid_tuple) != n:\n",
    "        hid_tuple.append(best_neurons)\n",
    "    \n",
    "    hid_tuple = tuple(hid_tuple)\n",
    "\n",
    "    i=0\n",
    "    score=0\n",
    "\n",
    "    #Validación cruzada de la red neuronal\n",
    "    for train_index, test_index in kf.split(X):\n",
    "        X_train_cv, X_validate = X[train_index], X[test_index]\n",
    "        y_train_cv, y_validate = y[train_index], y[test_index]\n",
    "        net = MLPClassifier(solver='lbfgs', alpha=0.000005,hidden_layer_sizes=hid_tuple, random_state=1)\n",
    "        net.fit(X_train_cv,y_train_cv)\n",
    "    \n",
    "        score+=net.score(X_validate, y_validate)\n",
    "        i+=1\n",
    "    \n",
    "    score = 1- (score/i)\n",
    "    hl_scores.append(score)\n",
    "    \n",
    "    if score < best_score:\n",
    "        best_score = score\n",
    "        best_layers = n\n",
    "    \n",
    "    print(\"Average error probability for %s neurons in %s hidden layers: %s\" % (best_neurons, n,score))\n",
    "    \n",
    "    \n",
    "print(\"Lowest error probability: %s for model with %s hidden_layers\" % (best_score, best_layers))\n",
    "\n"
   ]
  },
  {
   "cell_type": "code",
   "execution_count": 98,
   "metadata": {},
   "outputs": [
    {
     "data": {
      "image/png": "[encoded data removed]",
      "text/plain": [
       "<Figure size 640x480 with 1 Axes>"
      ]
     },
     "metadata": {},
     "output_type": "display_data"
    }
   ],
   "source": [
    "plt.figure(num=None, figsize=(8, 6), dpi=80, facecolor='w', edgecolor='k')\n",
    "\n",
    "plt.plot(range(2, n_max+1, 1), hl_scores, 'o')\n",
    "plt.axis([1, 11, 0, 1])\n",
    "plt.xlabel('Número de capas escondidas')\n",
    "plt.ylabel('Probabilidad de error promedio ')\n",
    "plt.title('Probabilidad de error promedio en función del número de capas escondidas con %s neuronas' \n",
    "          % best_neurons)\n",
    "plt.show()"
   ]
  },
  {
   "cell_type": "code",
   "execution_count": null,
   "metadata": {},
   "outputs": [],
   "source": []
  }
 ],
 "metadata": {
  "kernelspec": {
   "display_name": "Python 3",
   "language": "python",
   "name": "python3"
  },
  "language_info": {
   "codemirror_mode": {
    "name": "ipython",
    "version": 3
   },
   "file_extension": ".py",
   "mimetype": "text/x-python",
   "name": "python",
   "nbconvert_exporter": "python",
   "pygments_lexer": "ipython3",
   "version": "3.7.3"
  }
 },
 "nbformat": 4,
 "nbformat_minor": 2
}
